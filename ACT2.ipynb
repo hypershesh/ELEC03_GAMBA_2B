{
 "cells": [
  {
   "cell_type": "markdown",
   "id": "e8d1493c-4017-4e98-8445-8f6365638e75",
   "metadata": {},
   "source": [
    "<h1>Activity 2 - UK ACCIDENTS DATA ANALYITCS PROJECT</h1>\n",
    "<br>\n",
    "<h3>Analyst: Ron Jerick Gamba</h3>\n"
   ]
  },
  {
   "cell_type": "code",
   "execution_count": 1,
   "id": "d71e3d27-dadd-455c-8e77-9dfd9503902d",
   "metadata": {},
   "outputs": [],
   "source": [
    "import numpy as np \n",
    "import pandas as pd\n",
    "import warnings\n",
    "warnings.filterwarnings('ignore')"
   ]
  },
  {
   "cell_type": "markdown",
   "id": "048aeb5b-c2a3-4d55-a7d8-6594e898eea2",
   "metadata": {},
   "source": [
    "<h1>Converting csv into a Data Frame</h1>\n",
    "<br>\n",
    "<h3>Requirements</h3>\n",
    "<ul>\n",
    "    <li>Data Frame name</li>\n",
    "    <li>CSV File path</li>\n",
    "</ul>"
   ]
  },
  {
   "cell_type": "code",
   "execution_count": 2,
   "id": "cb665472-eca8-4501-bd0a-9c50b1c78af3",
   "metadata": {},
   "outputs": [
    {
     "data": {
      "text/html": [
       "<div>\n",
       "<style scoped>\n",
       "    .dataframe tbody tr th:only-of-type {\n",
       "        vertical-align: middle;\n",
       "    }\n",
       "\n",
       "    .dataframe tbody tr th {\n",
       "        vertical-align: top;\n",
       "    }\n",
       "\n",
       "    .dataframe thead th {\n",
       "        text-align: right;\n",
       "    }\n",
       "</style>\n",
       "<table border=\"1\" class=\"dataframe\">\n",
       "  <thead>\n",
       "    <tr style=\"text-align: right;\">\n",
       "      <th></th>\n",
       "      <th>Index</th>\n",
       "      <th>Accident_Severity</th>\n",
       "      <th>Accident Date</th>\n",
       "      <th>Latitude</th>\n",
       "      <th>Light_Conditions</th>\n",
       "      <th>District Area</th>\n",
       "      <th>Longitude</th>\n",
       "      <th>Number_of_Casualties</th>\n",
       "      <th>Number_of_Vehicles</th>\n",
       "      <th>Road_Surface_Conditions</th>\n",
       "      <th>Road_Type</th>\n",
       "      <th>Urban_or_Rural_Area</th>\n",
       "      <th>Weather_Conditions</th>\n",
       "      <th>Vehicle_Type</th>\n",
       "    </tr>\n",
       "  </thead>\n",
       "  <tbody>\n",
       "    <tr>\n",
       "      <th>0</th>\n",
       "      <td>200701BS64157</td>\n",
       "      <td>Serious</td>\n",
       "      <td>5/6/2019</td>\n",
       "      <td>51.506187</td>\n",
       "      <td>Darkness - lights lit</td>\n",
       "      <td>Kensington and Chelsea</td>\n",
       "      <td>-0.209082</td>\n",
       "      <td>1</td>\n",
       "      <td>2</td>\n",
       "      <td>Dry</td>\n",
       "      <td>Single carriageway</td>\n",
       "      <td>Urban</td>\n",
       "      <td>Fine no high winds</td>\n",
       "      <td>Car</td>\n",
       "    </tr>\n",
       "    <tr>\n",
       "      <th>1</th>\n",
       "      <td>200701BS65737</td>\n",
       "      <td>Serious</td>\n",
       "      <td>2/7/2019</td>\n",
       "      <td>51.495029</td>\n",
       "      <td>Daylight</td>\n",
       "      <td>Kensington and Chelsea</td>\n",
       "      <td>-0.173647</td>\n",
       "      <td>1</td>\n",
       "      <td>2</td>\n",
       "      <td>Wet or damp</td>\n",
       "      <td>Single carriageway</td>\n",
       "      <td>Urban</td>\n",
       "      <td>Raining no high winds</td>\n",
       "      <td>Car</td>\n",
       "    </tr>\n",
       "    <tr>\n",
       "      <th>2</th>\n",
       "      <td>200701BS66127</td>\n",
       "      <td>Serious</td>\n",
       "      <td>26-08-2019</td>\n",
       "      <td>51.517715</td>\n",
       "      <td>Darkness - lighting unknown</td>\n",
       "      <td>Kensington and Chelsea</td>\n",
       "      <td>-0.210215</td>\n",
       "      <td>1</td>\n",
       "      <td>3</td>\n",
       "      <td>Dry</td>\n",
       "      <td>NaN</td>\n",
       "      <td>Urban</td>\n",
       "      <td>NaN</td>\n",
       "      <td>Taxi/Private hire car</td>\n",
       "    </tr>\n",
       "    <tr>\n",
       "      <th>3</th>\n",
       "      <td>200701BS66128</td>\n",
       "      <td>Serious</td>\n",
       "      <td>16-08-2019</td>\n",
       "      <td>51.495478</td>\n",
       "      <td>Daylight</td>\n",
       "      <td>Kensington and Chelsea</td>\n",
       "      <td>-0.202731</td>\n",
       "      <td>1</td>\n",
       "      <td>4</td>\n",
       "      <td>Dry</td>\n",
       "      <td>Single carriageway</td>\n",
       "      <td>Urban</td>\n",
       "      <td>Fine no high winds</td>\n",
       "      <td>Bus or coach (17 or more pass seats)</td>\n",
       "    </tr>\n",
       "    <tr>\n",
       "      <th>4</th>\n",
       "      <td>200701BS66837</td>\n",
       "      <td>Slight</td>\n",
       "      <td>3/9/2019</td>\n",
       "      <td>51.488576</td>\n",
       "      <td>Darkness - lights lit</td>\n",
       "      <td>Kensington and Chelsea</td>\n",
       "      <td>-0.192487</td>\n",
       "      <td>1</td>\n",
       "      <td>2</td>\n",
       "      <td>Dry</td>\n",
       "      <td>NaN</td>\n",
       "      <td>Urban</td>\n",
       "      <td>NaN</td>\n",
       "      <td>Other vehicle</td>\n",
       "    </tr>\n",
       "    <tr>\n",
       "      <th>...</th>\n",
       "      <td>...</td>\n",
       "      <td>...</td>\n",
       "      <td>...</td>\n",
       "      <td>...</td>\n",
       "      <td>...</td>\n",
       "      <td>...</td>\n",
       "      <td>...</td>\n",
       "      <td>...</td>\n",
       "      <td>...</td>\n",
       "      <td>...</td>\n",
       "      <td>...</td>\n",
       "      <td>...</td>\n",
       "      <td>...</td>\n",
       "      <td>...</td>\n",
       "    </tr>\n",
       "    <tr>\n",
       "      <th>660674</th>\n",
       "      <td>201091NM01760</td>\n",
       "      <td>Slight</td>\n",
       "      <td>18-02-2022</td>\n",
       "      <td>57.374005</td>\n",
       "      <td>Daylight</td>\n",
       "      <td>Highland</td>\n",
       "      <td>-3.467828</td>\n",
       "      <td>2</td>\n",
       "      <td>1</td>\n",
       "      <td>Dry</td>\n",
       "      <td>Single carriageway</td>\n",
       "      <td>Rural</td>\n",
       "      <td>Fine no high winds</td>\n",
       "      <td>Car</td>\n",
       "    </tr>\n",
       "    <tr>\n",
       "      <th>660675</th>\n",
       "      <td>201091NM01881</td>\n",
       "      <td>Slight</td>\n",
       "      <td>21-02-2022</td>\n",
       "      <td>57.232273</td>\n",
       "      <td>Darkness - no lighting</td>\n",
       "      <td>Highland</td>\n",
       "      <td>-3.809281</td>\n",
       "      <td>1</td>\n",
       "      <td>1</td>\n",
       "      <td>Frost or ice</td>\n",
       "      <td>Single carriageway</td>\n",
       "      <td>Rural</td>\n",
       "      <td>Fine no high winds</td>\n",
       "      <td>Car</td>\n",
       "    </tr>\n",
       "    <tr>\n",
       "      <th>660676</th>\n",
       "      <td>201091NM01935</td>\n",
       "      <td>Slight</td>\n",
       "      <td>23-02-2022</td>\n",
       "      <td>57.585044</td>\n",
       "      <td>Daylight</td>\n",
       "      <td>Highland</td>\n",
       "      <td>-3.862727</td>\n",
       "      <td>1</td>\n",
       "      <td>3</td>\n",
       "      <td>Frost or ice</td>\n",
       "      <td>Single carriageway</td>\n",
       "      <td>Rural</td>\n",
       "      <td>Fine no high winds</td>\n",
       "      <td>Car</td>\n",
       "    </tr>\n",
       "    <tr>\n",
       "      <th>660677</th>\n",
       "      <td>201091NM01964</td>\n",
       "      <td>Serious</td>\n",
       "      <td>23-02-2022</td>\n",
       "      <td>57.214898</td>\n",
       "      <td>Darkness - no lighting</td>\n",
       "      <td>Highland</td>\n",
       "      <td>-3.823997</td>\n",
       "      <td>1</td>\n",
       "      <td>2</td>\n",
       "      <td>Wet or damp</td>\n",
       "      <td>Single carriageway</td>\n",
       "      <td>Rural</td>\n",
       "      <td>Fine no high winds</td>\n",
       "      <td>Motorcycle over 500cc</td>\n",
       "    </tr>\n",
       "    <tr>\n",
       "      <th>660678</th>\n",
       "      <td>201091NM02142</td>\n",
       "      <td>Serious</td>\n",
       "      <td>28-02-2022</td>\n",
       "      <td>57.575210</td>\n",
       "      <td>Daylight</td>\n",
       "      <td>Highland</td>\n",
       "      <td>-3.895673</td>\n",
       "      <td>1</td>\n",
       "      <td>1</td>\n",
       "      <td>Wet or damp</td>\n",
       "      <td>Dual carriageway</td>\n",
       "      <td>Rural</td>\n",
       "      <td>Snowing no high winds</td>\n",
       "      <td>Car</td>\n",
       "    </tr>\n",
       "  </tbody>\n",
       "</table>\n",
       "<p>660679 rows × 14 columns</p>\n",
       "</div>"
      ],
      "text/plain": [
       "                Index Accident_Severity Accident Date   Latitude  \\\n",
       "0       200701BS64157           Serious      5/6/2019  51.506187   \n",
       "1       200701BS65737           Serious      2/7/2019  51.495029   \n",
       "2       200701BS66127           Serious    26-08-2019  51.517715   \n",
       "3       200701BS66128           Serious    16-08-2019  51.495478   \n",
       "4       200701BS66837            Slight      3/9/2019  51.488576   \n",
       "...               ...               ...           ...        ...   \n",
       "660674  201091NM01760            Slight    18-02-2022  57.374005   \n",
       "660675  201091NM01881            Slight    21-02-2022  57.232273   \n",
       "660676  201091NM01935            Slight    23-02-2022  57.585044   \n",
       "660677  201091NM01964           Serious    23-02-2022  57.214898   \n",
       "660678  201091NM02142           Serious    28-02-2022  57.575210   \n",
       "\n",
       "                   Light_Conditions           District Area  Longitude  \\\n",
       "0             Darkness - lights lit  Kensington and Chelsea  -0.209082   \n",
       "1                          Daylight  Kensington and Chelsea  -0.173647   \n",
       "2       Darkness - lighting unknown  Kensington and Chelsea  -0.210215   \n",
       "3                          Daylight  Kensington and Chelsea  -0.202731   \n",
       "4             Darkness - lights lit  Kensington and Chelsea  -0.192487   \n",
       "...                             ...                     ...        ...   \n",
       "660674                     Daylight                Highland  -3.467828   \n",
       "660675       Darkness - no lighting                Highland  -3.809281   \n",
       "660676                     Daylight                Highland  -3.862727   \n",
       "660677       Darkness - no lighting                Highland  -3.823997   \n",
       "660678                     Daylight                Highland  -3.895673   \n",
       "\n",
       "        Number_of_Casualties  Number_of_Vehicles Road_Surface_Conditions  \\\n",
       "0                          1                   2                     Dry   \n",
       "1                          1                   2             Wet or damp   \n",
       "2                          1                   3                     Dry   \n",
       "3                          1                   4                     Dry   \n",
       "4                          1                   2                     Dry   \n",
       "...                      ...                 ...                     ...   \n",
       "660674                     2                   1                     Dry   \n",
       "660675                     1                   1            Frost or ice   \n",
       "660676                     1                   3            Frost or ice   \n",
       "660677                     1                   2             Wet or damp   \n",
       "660678                     1                   1             Wet or damp   \n",
       "\n",
       "                 Road_Type Urban_or_Rural_Area     Weather_Conditions  \\\n",
       "0       Single carriageway               Urban     Fine no high winds   \n",
       "1       Single carriageway               Urban  Raining no high winds   \n",
       "2                      NaN               Urban                    NaN   \n",
       "3       Single carriageway               Urban     Fine no high winds   \n",
       "4                      NaN               Urban                    NaN   \n",
       "...                    ...                 ...                    ...   \n",
       "660674  Single carriageway               Rural     Fine no high winds   \n",
       "660675  Single carriageway               Rural     Fine no high winds   \n",
       "660676  Single carriageway               Rural     Fine no high winds   \n",
       "660677  Single carriageway               Rural     Fine no high winds   \n",
       "660678    Dual carriageway               Rural  Snowing no high winds   \n",
       "\n",
       "                                Vehicle_Type  \n",
       "0                                        Car  \n",
       "1                                        Car  \n",
       "2                      Taxi/Private hire car  \n",
       "3       Bus or coach (17 or more pass seats)  \n",
       "4                              Other vehicle  \n",
       "...                                      ...  \n",
       "660674                                   Car  \n",
       "660675                                   Car  \n",
       "660676                                   Car  \n",
       "660677                 Motorcycle over 500cc  \n",
       "660678                                   Car  \n",
       "\n",
       "[660679 rows x 14 columns]"
      ]
     },
     "execution_count": 2,
     "metadata": {},
     "output_type": "execute_result"
    }
   ],
   "source": [
    "uk_acc = pd.read_csv('datasets//uk_road_accident.csv')\n",
    "uk_acc"
   ]
  },
  {
   "cell_type": "markdown",
   "id": "fc93a455-5b48-4ec1-9a1b-8830b8ed25cc",
   "metadata": {},
   "source": [
    "# Describe Data"
   ]
  },
  {
   "cell_type": "code",
   "execution_count": 3,
   "id": "869fe425-91d0-4777-91bd-33af35fb125d",
   "metadata": {},
   "outputs": [
    {
     "data": {
      "text/html": [
       "<div>\n",
       "<style scoped>\n",
       "    .dataframe tbody tr th:only-of-type {\n",
       "        vertical-align: middle;\n",
       "    }\n",
       "\n",
       "    .dataframe tbody tr th {\n",
       "        vertical-align: top;\n",
       "    }\n",
       "\n",
       "    .dataframe thead th {\n",
       "        text-align: right;\n",
       "    }\n",
       "</style>\n",
       "<table border=\"1\" class=\"dataframe\">\n",
       "  <thead>\n",
       "    <tr style=\"text-align: right;\">\n",
       "      <th></th>\n",
       "      <th>Latitude</th>\n",
       "      <th>Longitude</th>\n",
       "      <th>Number_of_Casualties</th>\n",
       "      <th>Number_of_Vehicles</th>\n",
       "    </tr>\n",
       "  </thead>\n",
       "  <tbody>\n",
       "    <tr>\n",
       "      <th>count</th>\n",
       "      <td>660654.000000</td>\n",
       "      <td>660653.000000</td>\n",
       "      <td>660679.000000</td>\n",
       "      <td>660679.000000</td>\n",
       "    </tr>\n",
       "    <tr>\n",
       "      <th>mean</th>\n",
       "      <td>52.553866</td>\n",
       "      <td>-1.431210</td>\n",
       "      <td>1.357040</td>\n",
       "      <td>1.831255</td>\n",
       "    </tr>\n",
       "    <tr>\n",
       "      <th>std</th>\n",
       "      <td>1.406922</td>\n",
       "      <td>1.383330</td>\n",
       "      <td>0.824847</td>\n",
       "      <td>0.715269</td>\n",
       "    </tr>\n",
       "    <tr>\n",
       "      <th>min</th>\n",
       "      <td>49.914430</td>\n",
       "      <td>-7.516225</td>\n",
       "      <td>1.000000</td>\n",
       "      <td>1.000000</td>\n",
       "    </tr>\n",
       "    <tr>\n",
       "      <th>25%</th>\n",
       "      <td>51.490690</td>\n",
       "      <td>-2.332291</td>\n",
       "      <td>1.000000</td>\n",
       "      <td>1.000000</td>\n",
       "    </tr>\n",
       "    <tr>\n",
       "      <th>50%</th>\n",
       "      <td>52.315641</td>\n",
       "      <td>-1.411667</td>\n",
       "      <td>1.000000</td>\n",
       "      <td>2.000000</td>\n",
       "    </tr>\n",
       "    <tr>\n",
       "      <th>75%</th>\n",
       "      <td>53.453452</td>\n",
       "      <td>-0.232869</td>\n",
       "      <td>1.000000</td>\n",
       "      <td>2.000000</td>\n",
       "    </tr>\n",
       "    <tr>\n",
       "      <th>max</th>\n",
       "      <td>60.757544</td>\n",
       "      <td>1.762010</td>\n",
       "      <td>68.000000</td>\n",
       "      <td>32.000000</td>\n",
       "    </tr>\n",
       "  </tbody>\n",
       "</table>\n",
       "</div>"
      ],
      "text/plain": [
       "            Latitude      Longitude  Number_of_Casualties  Number_of_Vehicles\n",
       "count  660654.000000  660653.000000         660679.000000       660679.000000\n",
       "mean       52.553866      -1.431210              1.357040            1.831255\n",
       "std         1.406922       1.383330              0.824847            0.715269\n",
       "min        49.914430      -7.516225              1.000000            1.000000\n",
       "25%        51.490690      -2.332291              1.000000            1.000000\n",
       "50%        52.315641      -1.411667              1.000000            2.000000\n",
       "75%        53.453452      -0.232869              1.000000            2.000000\n",
       "max        60.757544       1.762010             68.000000           32.000000"
      ]
     },
     "execution_count": 3,
     "metadata": {},
     "output_type": "execute_result"
    }
   ],
   "source": [
    "uk_acc.describe()"
   ]
  },
  {
   "cell_type": "code",
   "execution_count": 4,
   "id": "d0c14f3e-09b8-41b5-85f6-69968e18ca1d",
   "metadata": {},
   "outputs": [
    {
     "data": {
      "text/html": [
       "<div>\n",
       "<style scoped>\n",
       "    .dataframe tbody tr th:only-of-type {\n",
       "        vertical-align: middle;\n",
       "    }\n",
       "\n",
       "    .dataframe tbody tr th {\n",
       "        vertical-align: top;\n",
       "    }\n",
       "\n",
       "    .dataframe thead th {\n",
       "        text-align: right;\n",
       "    }\n",
       "</style>\n",
       "<table border=\"1\" class=\"dataframe\">\n",
       "  <thead>\n",
       "    <tr style=\"text-align: right;\">\n",
       "      <th></th>\n",
       "      <th>count</th>\n",
       "      <th>mean</th>\n",
       "      <th>std</th>\n",
       "      <th>min</th>\n",
       "      <th>25%</th>\n",
       "      <th>50%</th>\n",
       "      <th>75%</th>\n",
       "      <th>max</th>\n",
       "    </tr>\n",
       "  </thead>\n",
       "  <tbody>\n",
       "    <tr>\n",
       "      <th>Latitude</th>\n",
       "      <td>660654.0</td>\n",
       "      <td>52.553866</td>\n",
       "      <td>1.406922</td>\n",
       "      <td>49.914430</td>\n",
       "      <td>51.490690</td>\n",
       "      <td>52.315641</td>\n",
       "      <td>53.453452</td>\n",
       "      <td>60.757544</td>\n",
       "    </tr>\n",
       "    <tr>\n",
       "      <th>Longitude</th>\n",
       "      <td>660653.0</td>\n",
       "      <td>-1.431210</td>\n",
       "      <td>1.383330</td>\n",
       "      <td>-7.516225</td>\n",
       "      <td>-2.332291</td>\n",
       "      <td>-1.411667</td>\n",
       "      <td>-0.232869</td>\n",
       "      <td>1.762010</td>\n",
       "    </tr>\n",
       "    <tr>\n",
       "      <th>Number_of_Casualties</th>\n",
       "      <td>660679.0</td>\n",
       "      <td>1.357040</td>\n",
       "      <td>0.824847</td>\n",
       "      <td>1.000000</td>\n",
       "      <td>1.000000</td>\n",
       "      <td>1.000000</td>\n",
       "      <td>1.000000</td>\n",
       "      <td>68.000000</td>\n",
       "    </tr>\n",
       "    <tr>\n",
       "      <th>Number_of_Vehicles</th>\n",
       "      <td>660679.0</td>\n",
       "      <td>1.831255</td>\n",
       "      <td>0.715269</td>\n",
       "      <td>1.000000</td>\n",
       "      <td>1.000000</td>\n",
       "      <td>2.000000</td>\n",
       "      <td>2.000000</td>\n",
       "      <td>32.000000</td>\n",
       "    </tr>\n",
       "  </tbody>\n",
       "</table>\n",
       "</div>"
      ],
      "text/plain": [
       "                         count       mean       std        min        25%  \\\n",
       "Latitude              660654.0  52.553866  1.406922  49.914430  51.490690   \n",
       "Longitude             660653.0  -1.431210  1.383330  -7.516225  -2.332291   \n",
       "Number_of_Casualties  660679.0   1.357040  0.824847   1.000000   1.000000   \n",
       "Number_of_Vehicles    660679.0   1.831255  0.715269   1.000000   1.000000   \n",
       "\n",
       "                            50%        75%        max  \n",
       "Latitude              52.315641  53.453452  60.757544  \n",
       "Longitude             -1.411667  -0.232869   1.762010  \n",
       "Number_of_Casualties   1.000000   1.000000  68.000000  \n",
       "Number_of_Vehicles     2.000000   2.000000  32.000000  "
      ]
     },
     "execution_count": 4,
     "metadata": {},
     "output_type": "execute_result"
    }
   ],
   "source": [
    "uk_acc.describe().T"
   ]
  },
  {
   "cell_type": "markdown",
   "id": "c1643e12-1228-4a0e-bd5a-73f09dcb201f",
   "metadata": {},
   "source": [
    "# Checking Null-Values"
   ]
  },
  {
   "cell_type": "code",
   "execution_count": 5,
   "id": "e45612bb-f15a-47c0-be2d-7df49340a66d",
   "metadata": {},
   "outputs": [
    {
     "data": {
      "text/plain": [
       "Index                          0\n",
       "Accident_Severity              0\n",
       "Accident Date                  0\n",
       "Latitude                      25\n",
       "Light_Conditions               0\n",
       "District Area                  0\n",
       "Longitude                     26\n",
       "Number_of_Casualties           0\n",
       "Number_of_Vehicles             0\n",
       "Road_Surface_Conditions      726\n",
       "Road_Type                   4520\n",
       "Urban_or_Rural_Area           15\n",
       "Weather_Conditions         14128\n",
       "Vehicle_Type                   0\n",
       "dtype: int64"
      ]
     },
     "execution_count": 5,
     "metadata": {},
     "output_type": "execute_result"
    }
   ],
   "source": [
    "uk_acc.isnull().sum()"
   ]
  },
  {
   "cell_type": "code",
   "execution_count": 6,
   "id": "beae178b-42bd-42f8-be36-4e4214df1f22",
   "metadata": {},
   "outputs": [],
   "source": [
    "uk_acc['Latitude'] = uk_acc['Latitude'].fillna(uk_acc['Latitude'].mean())\n",
    "uk_acc['Longitude'] = uk_acc['Longitude'].fillna(uk_acc['Longitude'].mean())\n",
    "uk_acc['Road_Surface_Conditions'] = uk_acc['Road_Surface_Conditions'].fillna(uk_acc['Road_Surface_Conditions'].mode()[0])\n",
    "uk_acc['Road_Type'] = uk_acc['Road_Type'].fillna(uk_acc['Road_Type'].mode()[0])\n",
    "uk_acc['Urban_or_Rural_Area'] = uk_acc['Urban_or_Rural_Area'].fillna(uk_acc['Urban_or_Rural_Area'].mode()[0])\n",
    "uk_acc['Weather_Conditions'] = uk_acc['Weather_Conditions'].fillna(uk_acc['Weather_Conditions'].mode()[0])"
   ]
  },
  {
   "cell_type": "markdown",
   "id": "64833aca-8a3a-47c5-a673-bcc10bfeb865",
   "metadata": {},
   "source": [
    "# Checking Column Data Types"
   ]
  },
  {
   "cell_type": "code",
   "execution_count": 7,
   "id": "be64d36f-6b5e-46af-8d23-2f50f2b93d7c",
   "metadata": {},
   "outputs": [
    {
     "data": {
      "text/plain": [
       "Index                       object\n",
       "Accident_Severity           object\n",
       "Accident Date               object\n",
       "Latitude                   float64\n",
       "Light_Conditions            object\n",
       "District Area               object\n",
       "Longitude                  float64\n",
       "Number_of_Casualties         int64\n",
       "Number_of_Vehicles           int64\n",
       "Road_Surface_Conditions     object\n",
       "Road_Type                   object\n",
       "Urban_or_Rural_Area         object\n",
       "Weather_Conditions          object\n",
       "Vehicle_Type                object\n",
       "dtype: object"
      ]
     },
     "execution_count": 7,
     "metadata": {},
     "output_type": "execute_result"
    }
   ],
   "source": [
    "uk_acc.dtypes"
   ]
  },
  {
   "cell_type": "code",
   "execution_count": 8,
   "id": "59f78dda-4d7e-44bf-b5ef-733ee5cdb3ff",
   "metadata": {},
   "outputs": [],
   "source": [
    "# integer\n",
    "uk_acc['Number_of_Casualties'] = uk_acc['Number_of_Casualties'].astype('int')\n",
    "uk_acc['Number_of_Vehicles'] = uk_acc['Number_of_Vehicles'].astype('int')\n",
    "\n",
    "# float\n",
    "uk_acc['Latitude'] = uk_acc['Latitude'].astype('float')\n",
    "uk_acc['Longitude'] = uk_acc['Longitude'].astype('float')\n",
    "\n",
    "# string (object)\n",
    "uk_acc['Index'] = uk_acc['Index'].astype('category')\n",
    "uk_acc['Accident_Severity'] = uk_acc['Accident_Severity'].astype('category')\n",
    "uk_acc['Accident Date'] = uk_acc['Accident Date'].astype('category')\n",
    "uk_acc['Light_Conditions'] = uk_acc['Light_Conditions'].astype('category')\n",
    "uk_acc['District Area'] = uk_acc['District Area'].astype('category')\n",
    "uk_acc['Road_Surface_Conditions'] = uk_acc['Road_Surface_Conditions'].astype('category')\n",
    "uk_acc['Road_Type'] = uk_acc['Road_Type'].astype('category')\n",
    "uk_acc['Urban_or_Rural_Area'] = uk_acc['Urban_or_Rural_Area'].astype('category')\n",
    "uk_acc['Weather_Conditions'] = uk_acc['Weather_Conditions'].astype('category')\n",
    "uk_acc['Vehicle_Type'] = uk_acc['Vehicle_Type'].astype('category')"
   ]
  },
  {
   "cell_type": "code",
   "execution_count": 9,
   "id": "e15f0f17-9edb-4208-9f25-71d3129abd4d",
   "metadata": {},
   "outputs": [
    {
     "data": {
      "text/html": [
       "<div>\n",
       "<style scoped>\n",
       "    .dataframe tbody tr th:only-of-type {\n",
       "        vertical-align: middle;\n",
       "    }\n",
       "\n",
       "    .dataframe tbody tr th {\n",
       "        vertical-align: top;\n",
       "    }\n",
       "\n",
       "    .dataframe thead th {\n",
       "        text-align: right;\n",
       "    }\n",
       "</style>\n",
       "<table border=\"1\" class=\"dataframe\">\n",
       "  <thead>\n",
       "    <tr style=\"text-align: right;\">\n",
       "      <th></th>\n",
       "      <th>Index</th>\n",
       "      <th>Accident_Severity</th>\n",
       "      <th>Accident Date</th>\n",
       "      <th>Latitude</th>\n",
       "      <th>Light_Conditions</th>\n",
       "      <th>District Area</th>\n",
       "      <th>Longitude</th>\n",
       "      <th>Number_of_Casualties</th>\n",
       "      <th>Number_of_Vehicles</th>\n",
       "      <th>Road_Surface_Conditions</th>\n",
       "      <th>Road_Type</th>\n",
       "      <th>Urban_or_Rural_Area</th>\n",
       "      <th>Weather_Conditions</th>\n",
       "      <th>Vehicle_Type</th>\n",
       "    </tr>\n",
       "  </thead>\n",
       "  <tbody>\n",
       "    <tr>\n",
       "      <th>0</th>\n",
       "      <td>200701BS64157</td>\n",
       "      <td>Serious</td>\n",
       "      <td>5/6/2019</td>\n",
       "      <td>51.506187</td>\n",
       "      <td>Darkness - lights lit</td>\n",
       "      <td>Kensington and Chelsea</td>\n",
       "      <td>-0.209082</td>\n",
       "      <td>1</td>\n",
       "      <td>2</td>\n",
       "      <td>Dry</td>\n",
       "      <td>Single carriageway</td>\n",
       "      <td>Urban</td>\n",
       "      <td>Fine no high winds</td>\n",
       "      <td>Car</td>\n",
       "    </tr>\n",
       "    <tr>\n",
       "      <th>1</th>\n",
       "      <td>200701BS65737</td>\n",
       "      <td>Serious</td>\n",
       "      <td>2/7/2019</td>\n",
       "      <td>51.495029</td>\n",
       "      <td>Daylight</td>\n",
       "      <td>Kensington and Chelsea</td>\n",
       "      <td>-0.173647</td>\n",
       "      <td>1</td>\n",
       "      <td>2</td>\n",
       "      <td>Wet or damp</td>\n",
       "      <td>Single carriageway</td>\n",
       "      <td>Urban</td>\n",
       "      <td>Raining no high winds</td>\n",
       "      <td>Car</td>\n",
       "    </tr>\n",
       "    <tr>\n",
       "      <th>2</th>\n",
       "      <td>200701BS66127</td>\n",
       "      <td>Serious</td>\n",
       "      <td>26-08-2019</td>\n",
       "      <td>51.517715</td>\n",
       "      <td>Darkness - lighting unknown</td>\n",
       "      <td>Kensington and Chelsea</td>\n",
       "      <td>-0.210215</td>\n",
       "      <td>1</td>\n",
       "      <td>3</td>\n",
       "      <td>Dry</td>\n",
       "      <td>Single carriageway</td>\n",
       "      <td>Urban</td>\n",
       "      <td>Fine no high winds</td>\n",
       "      <td>Taxi/Private hire car</td>\n",
       "    </tr>\n",
       "    <tr>\n",
       "      <th>3</th>\n",
       "      <td>200701BS66128</td>\n",
       "      <td>Serious</td>\n",
       "      <td>16-08-2019</td>\n",
       "      <td>51.495478</td>\n",
       "      <td>Daylight</td>\n",
       "      <td>Kensington and Chelsea</td>\n",
       "      <td>-0.202731</td>\n",
       "      <td>1</td>\n",
       "      <td>4</td>\n",
       "      <td>Dry</td>\n",
       "      <td>Single carriageway</td>\n",
       "      <td>Urban</td>\n",
       "      <td>Fine no high winds</td>\n",
       "      <td>Bus or coach (17 or more pass seats)</td>\n",
       "    </tr>\n",
       "    <tr>\n",
       "      <th>4</th>\n",
       "      <td>200701BS66837</td>\n",
       "      <td>Slight</td>\n",
       "      <td>3/9/2019</td>\n",
       "      <td>51.488576</td>\n",
       "      <td>Darkness - lights lit</td>\n",
       "      <td>Kensington and Chelsea</td>\n",
       "      <td>-0.192487</td>\n",
       "      <td>1</td>\n",
       "      <td>2</td>\n",
       "      <td>Dry</td>\n",
       "      <td>Single carriageway</td>\n",
       "      <td>Urban</td>\n",
       "      <td>Fine no high winds</td>\n",
       "      <td>Other vehicle</td>\n",
       "    </tr>\n",
       "    <tr>\n",
       "      <th>...</th>\n",
       "      <td>...</td>\n",
       "      <td>...</td>\n",
       "      <td>...</td>\n",
       "      <td>...</td>\n",
       "      <td>...</td>\n",
       "      <td>...</td>\n",
       "      <td>...</td>\n",
       "      <td>...</td>\n",
       "      <td>...</td>\n",
       "      <td>...</td>\n",
       "      <td>...</td>\n",
       "      <td>...</td>\n",
       "      <td>...</td>\n",
       "      <td>...</td>\n",
       "    </tr>\n",
       "    <tr>\n",
       "      <th>660674</th>\n",
       "      <td>201091NM01760</td>\n",
       "      <td>Slight</td>\n",
       "      <td>18-02-2022</td>\n",
       "      <td>57.374005</td>\n",
       "      <td>Daylight</td>\n",
       "      <td>Highland</td>\n",
       "      <td>-3.467828</td>\n",
       "      <td>2</td>\n",
       "      <td>1</td>\n",
       "      <td>Dry</td>\n",
       "      <td>Single carriageway</td>\n",
       "      <td>Rural</td>\n",
       "      <td>Fine no high winds</td>\n",
       "      <td>Car</td>\n",
       "    </tr>\n",
       "    <tr>\n",
       "      <th>660675</th>\n",
       "      <td>201091NM01881</td>\n",
       "      <td>Slight</td>\n",
       "      <td>21-02-2022</td>\n",
       "      <td>57.232273</td>\n",
       "      <td>Darkness - no lighting</td>\n",
       "      <td>Highland</td>\n",
       "      <td>-3.809281</td>\n",
       "      <td>1</td>\n",
       "      <td>1</td>\n",
       "      <td>Frost or ice</td>\n",
       "      <td>Single carriageway</td>\n",
       "      <td>Rural</td>\n",
       "      <td>Fine no high winds</td>\n",
       "      <td>Car</td>\n",
       "    </tr>\n",
       "    <tr>\n",
       "      <th>660676</th>\n",
       "      <td>201091NM01935</td>\n",
       "      <td>Slight</td>\n",
       "      <td>23-02-2022</td>\n",
       "      <td>57.585044</td>\n",
       "      <td>Daylight</td>\n",
       "      <td>Highland</td>\n",
       "      <td>-3.862727</td>\n",
       "      <td>1</td>\n",
       "      <td>3</td>\n",
       "      <td>Frost or ice</td>\n",
       "      <td>Single carriageway</td>\n",
       "      <td>Rural</td>\n",
       "      <td>Fine no high winds</td>\n",
       "      <td>Car</td>\n",
       "    </tr>\n",
       "    <tr>\n",
       "      <th>660677</th>\n",
       "      <td>201091NM01964</td>\n",
       "      <td>Serious</td>\n",
       "      <td>23-02-2022</td>\n",
       "      <td>57.214898</td>\n",
       "      <td>Darkness - no lighting</td>\n",
       "      <td>Highland</td>\n",
       "      <td>-3.823997</td>\n",
       "      <td>1</td>\n",
       "      <td>2</td>\n",
       "      <td>Wet or damp</td>\n",
       "      <td>Single carriageway</td>\n",
       "      <td>Rural</td>\n",
       "      <td>Fine no high winds</td>\n",
       "      <td>Motorcycle over 500cc</td>\n",
       "    </tr>\n",
       "    <tr>\n",
       "      <th>660678</th>\n",
       "      <td>201091NM02142</td>\n",
       "      <td>Serious</td>\n",
       "      <td>28-02-2022</td>\n",
       "      <td>57.575210</td>\n",
       "      <td>Daylight</td>\n",
       "      <td>Highland</td>\n",
       "      <td>-3.895673</td>\n",
       "      <td>1</td>\n",
       "      <td>1</td>\n",
       "      <td>Wet or damp</td>\n",
       "      <td>Dual carriageway</td>\n",
       "      <td>Rural</td>\n",
       "      <td>Snowing no high winds</td>\n",
       "      <td>Car</td>\n",
       "    </tr>\n",
       "  </tbody>\n",
       "</table>\n",
       "<p>660679 rows × 14 columns</p>\n",
       "</div>"
      ],
      "text/plain": [
       "                Index Accident_Severity Accident Date   Latitude  \\\n",
       "0       200701BS64157           Serious      5/6/2019  51.506187   \n",
       "1       200701BS65737           Serious      2/7/2019  51.495029   \n",
       "2       200701BS66127           Serious    26-08-2019  51.517715   \n",
       "3       200701BS66128           Serious    16-08-2019  51.495478   \n",
       "4       200701BS66837            Slight      3/9/2019  51.488576   \n",
       "...               ...               ...           ...        ...   \n",
       "660674  201091NM01760            Slight    18-02-2022  57.374005   \n",
       "660675  201091NM01881            Slight    21-02-2022  57.232273   \n",
       "660676  201091NM01935            Slight    23-02-2022  57.585044   \n",
       "660677  201091NM01964           Serious    23-02-2022  57.214898   \n",
       "660678  201091NM02142           Serious    28-02-2022  57.575210   \n",
       "\n",
       "                   Light_Conditions           District Area  Longitude  \\\n",
       "0             Darkness - lights lit  Kensington and Chelsea  -0.209082   \n",
       "1                          Daylight  Kensington and Chelsea  -0.173647   \n",
       "2       Darkness - lighting unknown  Kensington and Chelsea  -0.210215   \n",
       "3                          Daylight  Kensington and Chelsea  -0.202731   \n",
       "4             Darkness - lights lit  Kensington and Chelsea  -0.192487   \n",
       "...                             ...                     ...        ...   \n",
       "660674                     Daylight                Highland  -3.467828   \n",
       "660675       Darkness - no lighting                Highland  -3.809281   \n",
       "660676                     Daylight                Highland  -3.862727   \n",
       "660677       Darkness - no lighting                Highland  -3.823997   \n",
       "660678                     Daylight                Highland  -3.895673   \n",
       "\n",
       "        Number_of_Casualties  Number_of_Vehicles Road_Surface_Conditions  \\\n",
       "0                          1                   2                     Dry   \n",
       "1                          1                   2             Wet or damp   \n",
       "2                          1                   3                     Dry   \n",
       "3                          1                   4                     Dry   \n",
       "4                          1                   2                     Dry   \n",
       "...                      ...                 ...                     ...   \n",
       "660674                     2                   1                     Dry   \n",
       "660675                     1                   1            Frost or ice   \n",
       "660676                     1                   3            Frost or ice   \n",
       "660677                     1                   2             Wet or damp   \n",
       "660678                     1                   1             Wet or damp   \n",
       "\n",
       "                 Road_Type Urban_or_Rural_Area     Weather_Conditions  \\\n",
       "0       Single carriageway               Urban     Fine no high winds   \n",
       "1       Single carriageway               Urban  Raining no high winds   \n",
       "2       Single carriageway               Urban     Fine no high winds   \n",
       "3       Single carriageway               Urban     Fine no high winds   \n",
       "4       Single carriageway               Urban     Fine no high winds   \n",
       "...                    ...                 ...                    ...   \n",
       "660674  Single carriageway               Rural     Fine no high winds   \n",
       "660675  Single carriageway               Rural     Fine no high winds   \n",
       "660676  Single carriageway               Rural     Fine no high winds   \n",
       "660677  Single carriageway               Rural     Fine no high winds   \n",
       "660678    Dual carriageway               Rural  Snowing no high winds   \n",
       "\n",
       "                                Vehicle_Type  \n",
       "0                                        Car  \n",
       "1                                        Car  \n",
       "2                      Taxi/Private hire car  \n",
       "3       Bus or coach (17 or more pass seats)  \n",
       "4                              Other vehicle  \n",
       "...                                      ...  \n",
       "660674                                   Car  \n",
       "660675                                   Car  \n",
       "660676                                   Car  \n",
       "660677                 Motorcycle over 500cc  \n",
       "660678                                   Car  \n",
       "\n",
       "[660679 rows x 14 columns]"
      ]
     },
     "execution_count": 9,
     "metadata": {},
     "output_type": "execute_result"
    }
   ],
   "source": [
    "uk_acc\n"
   ]
  },
  {
   "cell_type": "markdown",
   "id": "2e94595d-9ba6-475a-9079-473360cbacdb",
   "metadata": {},
   "source": [
    "# Exploratory Data Analytics"
   ]
  },
  {
   "cell_type": "markdown",
   "id": "448321a0-c9ae-4fcb-a0d1-b53f9eb27bbc",
   "metadata": {},
   "source": [
    "# QUESTION 1 :\n",
    "### Create a column for casualties per vehicle."
   ]
  },
  {
   "cell_type": "code",
   "execution_count": 10,
   "id": "6294a711-5a2b-423f-8812-08120e406a4d",
   "metadata": {},
   "outputs": [
    {
     "data": {
      "text/html": [
       "<div>\n",
       "<style scoped>\n",
       "    .dataframe tbody tr th:only-of-type {\n",
       "        vertical-align: middle;\n",
       "    }\n",
       "\n",
       "    .dataframe tbody tr th {\n",
       "        vertical-align: top;\n",
       "    }\n",
       "\n",
       "    .dataframe thead th {\n",
       "        text-align: right;\n",
       "    }\n",
       "</style>\n",
       "<table border=\"1\" class=\"dataframe\">\n",
       "  <thead>\n",
       "    <tr style=\"text-align: right;\">\n",
       "      <th></th>\n",
       "      <th>Number_of_Casualties</th>\n",
       "      <th>Number_of_Vehicles</th>\n",
       "      <th>Casualties_per_Vehicle</th>\n",
       "    </tr>\n",
       "  </thead>\n",
       "  <tbody>\n",
       "    <tr>\n",
       "      <th>0</th>\n",
       "      <td>1</td>\n",
       "      <td>2</td>\n",
       "      <td>0.500000</td>\n",
       "    </tr>\n",
       "    <tr>\n",
       "      <th>1</th>\n",
       "      <td>1</td>\n",
       "      <td>2</td>\n",
       "      <td>0.500000</td>\n",
       "    </tr>\n",
       "    <tr>\n",
       "      <th>2</th>\n",
       "      <td>1</td>\n",
       "      <td>3</td>\n",
       "      <td>0.333333</td>\n",
       "    </tr>\n",
       "    <tr>\n",
       "      <th>3</th>\n",
       "      <td>1</td>\n",
       "      <td>4</td>\n",
       "      <td>0.250000</td>\n",
       "    </tr>\n",
       "    <tr>\n",
       "      <th>4</th>\n",
       "      <td>1</td>\n",
       "      <td>2</td>\n",
       "      <td>0.500000</td>\n",
       "    </tr>\n",
       "  </tbody>\n",
       "</table>\n",
       "</div>"
      ],
      "text/plain": [
       "   Number_of_Casualties  Number_of_Vehicles  Casualties_per_Vehicle\n",
       "0                     1                   2                0.500000\n",
       "1                     1                   2                0.500000\n",
       "2                     1                   3                0.333333\n",
       "3                     1                   4                0.250000\n",
       "4                     1                   2                0.500000"
      ]
     },
     "execution_count": 10,
     "metadata": {},
     "output_type": "execute_result"
    }
   ],
   "source": [
    "uk_acc['Casualties_per_Vehicle'] = uk_acc['Number_of_Casualties'] / uk_acc['Number_of_Vehicles']\n",
    "uk_acc[['Number_of_Casualties','Number_of_Vehicles','Casualties_per_Vehicle']].head()\n"
   ]
  },
  {
   "cell_type": "markdown",
   "id": "bd390334-aedf-4fea-99ee-dd9b8e965238",
   "metadata": {},
   "source": [
    "# Insights \n",
    "### This helps measure accident intensity, comparing small crashes with big pileups."
   ]
  },
  {
   "cell_type": "markdown",
   "id": "647863df-b418-4bea-8194-815752d6a550",
   "metadata": {},
   "source": [
    "# Question 2:\n",
    "### What is the correlation between longitude and casualties?"
   ]
  },
  {
   "cell_type": "code",
   "execution_count": 11,
   "id": "0a1cda71-4b24-46d2-8497-74078936ee97",
   "metadata": {},
   "outputs": [
    {
     "data": {
      "text/plain": [
       "np.float64(-0.0404056457884545)"
      ]
     },
     "execution_count": 11,
     "metadata": {},
     "output_type": "execute_result"
    }
   ],
   "source": [
    "uk_acc['Longitude'].corr(uk_acc['Number_of_Casualties'])\n"
   ]
  },
  {
   "cell_type": "markdown",
   "id": "c8baa929-a803-4b5c-a4e9-da97d2a51e44",
   "metadata": {},
   "source": [
    "# Insight: \n",
    "### East-west location doesn’t strongly affect casualties."
   ]
  },
  {
   "cell_type": "markdown",
   "id": "ffc01379-caec-4d9d-8718-d4584ec632a1",
   "metadata": {},
   "source": [
    "# Question 3 :\n",
    "### Compare casualties on single vs dual carriageways."
   ]
  },
  {
   "cell_type": "code",
   "execution_count": 12,
   "id": "5b459053-9e24-45d5-a0c8-9b066b6dbb9d",
   "metadata": {},
   "outputs": [
    {
     "data": {
      "text/plain": [
       "np.float64(0.0)"
      ]
     },
     "execution_count": 12,
     "metadata": {},
     "output_type": "execute_result"
    }
   ],
   "source": [
    "from scipy.stats import f_oneway\n",
    "type1 = uk_acc[uk_acc['Road_Type'] == 'Single carriageway']['Number_of_Casualties']\n",
    "type2 = uk_acc[uk_acc['Road_Type'] == 'Dual carriageway']['Number_of_Casualties']\n",
    "stats, p_value = f_oneway(type1, type2)\n",
    "p_value\n"
   ]
  },
  {
   "cell_type": "markdown",
   "id": "a2ecceb0-6c30-4f22-af4e-2b98a636ebb8",
   "metadata": {},
   "source": [
    "# Insight:\n",
    "### There’s a clear difference in casualties between single and dual carriageways."
   ]
  },
  {
   "cell_type": "markdown",
   "id": "5f419937-5d9a-4240-80dc-d952b0b1d89e",
   "metadata": {},
   "source": [
    "# Question 4 :\n",
    "### What is the average latitude of accidents?"
   ]
  },
  {
   "cell_type": "code",
   "execution_count": 13,
   "id": "67241812-ed33-40b9-94f5-ee05c08236dd",
   "metadata": {},
   "outputs": [
    {
     "data": {
      "text/plain": [
       "np.float64(52.553865761110956)"
      ]
     },
     "execution_count": 13,
     "metadata": {},
     "output_type": "execute_result"
    }
   ],
   "source": [
    "uk_acc['Latitude'].mean()\n"
   ]
  },
  {
   "cell_type": "markdown",
   "id": "b9a37976-9ea4-45f1-aa8c-1f650f1e32de",
   "metadata": {},
   "source": [
    "# Insight: \n",
    "### Accidents are spread across the UK, mostly central/northern areas."
   ]
  },
  {
   "cell_type": "markdown",
   "id": "1fcf1c7b-9ac5-4ba1-b81d-0e3fbdc55c1e",
   "metadata": {},
   "source": [
    "# Question 5 : \n",
    "### What is the largest number of accidents reported on a single road type per district?"
   ]
  },
  {
   "cell_type": "code",
   "execution_count": 14,
   "id": "b1e904d7-91b2-448f-8277-b245ec903a14",
   "metadata": {},
   "outputs": [
    {
     "data": {
      "text/plain": [
       "np.int64(9025)"
      ]
     },
     "execution_count": 14,
     "metadata": {},
     "output_type": "execute_result"
    }
   ],
   "source": [
    "uk_acc.groupby(['District Area','Road_Type']).size().max()\n"
   ]
  },
  {
   "cell_type": "markdown",
   "id": "54ae4f09-d662-4c54-b18c-f920af01a26f",
   "metadata": {},
   "source": [
    "# Insights :\n",
    "### Single carriageways usually dominate across all districts."
   ]
  },
  {
   "cell_type": "markdown",
   "id": "315e5165-1b4d-411c-97a3-2880505eacf0",
   "metadata": {},
   "source": [
    "# Question 6: \n",
    "### What is the correlation between vehicles and casualties?"
   ]
  },
  {
   "cell_type": "code",
   "execution_count": 15,
   "id": "7b9e5133-2196-490b-a042-7a00fc4cb9bf",
   "metadata": {},
   "outputs": [
    {
     "data": {
      "text/plain": [
       "np.float64(0.22888886126927557)"
      ]
     },
     "execution_count": 15,
     "metadata": {},
     "output_type": "execute_result"
    }
   ],
   "source": [
    "uk_acc['Number_of_Vehicles'].corr(uk_acc['Number_of_Casualties'])\n"
   ]
  },
  {
   "cell_type": "markdown",
   "id": "63336b80-97a3-488a-8f3f-b1a2d97b03b5",
   "metadata": {},
   "source": [
    "# Insight: \n",
    "### More vehicles often mean more casualties, but not always."
   ]
  },
  {
   "cell_type": "markdown",
   "id": "c88d6913-3f5f-4d31-9a57-e8b076483a49",
   "metadata": {},
   "source": [
    "# Question 7: \n",
    "### What is the biggest number of vehicles in one accident?"
   ]
  },
  {
   "cell_type": "code",
   "execution_count": 16,
   "id": "a9848c3e-bd0a-4e1c-952c-fb95bf38f9f1",
   "metadata": {},
   "outputs": [
    {
     "data": {
      "text/plain": [
       "np.int64(32)"
      ]
     },
     "execution_count": 16,
     "metadata": {},
     "output_type": "execute_result"
    }
   ],
   "source": [
    "uk_acc['Number_of_Vehicles'].max()\n"
   ]
  },
  {
   "cell_type": "markdown",
   "id": "b08335ce-a8c5-4da1-a2c8-b90caebea241",
   "metadata": {},
   "source": [
    "# Insight: \n",
    "### Multi-car pileups happen rarely but can be very large."
   ]
  },
  {
   "cell_type": "markdown",
   "id": "7c11a186-6a76-4627-9d7e-0fa311c508a7",
   "metadata": {},
   "source": [
    "# Question 8: \n",
    "### How many accidents happened on icy roads?"
   ]
  },
  {
   "cell_type": "code",
   "execution_count": 17,
   "id": "e09c5094-62ec-45b2-9e0e-c563ae9a30ab",
   "metadata": {},
   "outputs": [
    {
     "data": {
      "text/plain": [
       "18517"
      ]
     },
     "execution_count": 17,
     "metadata": {},
     "output_type": "execute_result"
    }
   ],
   "source": [
    "uk_acc[uk_acc['Road_Surface_Conditions'] == 'Frost or ice'].shape[0]\n"
   ]
  },
  {
   "cell_type": "markdown",
   "id": "e04175ca-4463-42b5-8fa6-c97fd2f9fac5",
   "metadata": {},
   "source": [
    "# Insight: \n",
    "### Ice causes many dangerous situations, though less frequent than dry/wet roads."
   ]
  },
  {
   "cell_type": "markdown",
   "id": "cdb32475-3590-41e1-8702-8faa376d4842",
   "metadata": {},
   "source": [
    "# Question 9: \n",
    "### What’s the average number of vehicles in wet-road accidents?"
   ]
  },
  {
   "cell_type": "code",
   "execution_count": 18,
   "id": "6fe5b339-dbcc-4a9e-b558-563919346dce",
   "metadata": {},
   "outputs": [
    {
     "data": {
      "text/plain": [
       "np.float64(1.8291610429119267)"
      ]
     },
     "execution_count": 18,
     "metadata": {},
     "output_type": "execute_result"
    }
   ],
   "source": [
    "uk_acc[uk_acc['Road_Surface_Conditions'] == 'Wet or damp']['Number_of_Vehicles'].mean()\n"
   ]
  },
  {
   "cell_type": "markdown",
   "id": "fa694112-15f2-4770-8583-3eb211d20c15",
   "metadata": {},
   "source": [
    "# Insight: \n",
    "### Wet roads often cause more multi-vehicle crashes."
   ]
  },
  {
   "cell_type": "markdown",
   "id": "96bb60ab-4a1b-4bd9-a076-1ecaa0a303c5",
   "metadata": {},
   "source": [
    "# Question 10: \n",
    "### Which district records the most accidents?"
   ]
  },
  {
   "cell_type": "code",
   "execution_count": 19,
   "id": "516cdce3-08e5-4081-8220-6bcf2ed27adc",
   "metadata": {},
   "outputs": [
    {
     "data": {
      "text/plain": [
       "District Area\n",
       "Birmingham    13491\n",
       "Name: count, dtype: int64"
      ]
     },
     "execution_count": 19,
     "metadata": {},
     "output_type": "execute_result"
    }
   ],
   "source": [
    "uk_acc['District Area'].value_counts().head(1)\n"
   ]
  },
  {
   "cell_type": "markdown",
   "id": "2be3d074-5bc3-42ae-bd63-4df65227128c",
   "metadata": {},
   "source": [
    "#Insight: \n",
    "### Some districts have busier roads, so more crashes occur there."
   ]
  },
  {
   "cell_type": "markdown",
   "id": "37d6a303-7216-454f-a3f4-48943689ce10",
   "metadata": {},
   "source": [
    "# Question 11: \n",
    "### What is the minimum number of casualties in an accident?"
   ]
  },
  {
   "cell_type": "code",
   "execution_count": 20,
   "id": "a46eaae8-f777-4d41-912e-4aa26580e55b",
   "metadata": {},
   "outputs": [
    {
     "data": {
      "text/plain": [
       "np.int64(1)"
      ]
     },
     "execution_count": 20,
     "metadata": {},
     "output_type": "execute_result"
    }
   ],
   "source": [
    "uk_acc['Number_of_Casualties'].min()\n"
   ]
  },
  {
   "cell_type": "markdown",
   "id": "18f5af57-c100-4976-8678-c23f78ce4ddd",
   "metadata": {},
   "source": [
    "# Insight: \n",
    "### Every recorded accident involves at least one person."
   ]
  },
  {
   "cell_type": "markdown",
   "id": "33f0e5c2-dc7e-4a53-91b0-0c351a90b8a8",
   "metadata": {},
   "source": [
    "# Question 12: \n",
    "### What is the mean number of vehicles per accident?"
   ]
  },
  {
   "cell_type": "code",
   "execution_count": 21,
   "id": "b02c7665-0237-4a0e-9c13-ddfb793773f9",
   "metadata": {},
   "outputs": [
    {
     "data": {
      "text/plain": [
       "np.float64(1.8312554205597575)"
      ]
     },
     "execution_count": 21,
     "metadata": {},
     "output_type": "execute_result"
    }
   ],
   "source": [
    "uk_acc['Number_of_Vehicles'].mean()\n"
   ]
  },
  {
   "cell_type": "markdown",
   "id": "e4afb313-5c76-4438-96cb-bbac1cbbbf40",
   "metadata": {},
   "source": [
    "# Insight: \n",
    "### Many crashes involve two vehicles, but single-vehicle cases bring the average down."
   ]
  },
  {
   "cell_type": "markdown",
   "id": "dbb21c47-c46e-4fe3-a47b-2eed5f7fc6e2",
   "metadata": {},
   "source": [
    "# Question 13: \n",
    "### What is the average severity score across all accidents?"
   ]
  },
  {
   "cell_type": "code",
   "execution_count": 22,
   "id": "721114ed-95e8-4799-938e-62627244d231",
   "metadata": {},
   "outputs": [
    {
     "data": {
      "text/plain": [
       "np.float64(1.8402567661451326)"
      ]
     },
     "execution_count": 22,
     "metadata": {},
     "output_type": "execute_result"
    }
   ],
   "source": [
    "uk_acc['Accident_Severity_numeric'] = uk_acc['Accident_Severity'].astype('category').cat.codes\n",
    "uk_acc['Accident_Severity_numeric'].mean()\n"
   ]
  },
  {
   "cell_type": "markdown",
   "id": "f488ad09-1c74-4e7a-b6a1-1e20797331e8",
   "metadata": {},
   "source": [
    "# Insight:\n",
    "### Most accidents fall between slight and serious."
   ]
  },
  {
   "cell_type": "markdown",
   "id": "08c239f2-456e-4805-a8ee-9138d4542e70",
   "metadata": {},
   "source": [
    "# Question 14 :\n",
    "### What is the largest number of accidents reported on a single road type per district?"
   ]
  },
  {
   "cell_type": "code",
   "execution_count": 23,
   "id": "af4e06dd-e0eb-4a97-82be-947b71277861",
   "metadata": {},
   "outputs": [
    {
     "data": {
      "text/plain": [
       "np.int64(9025)"
      ]
     },
     "execution_count": 23,
     "metadata": {},
     "output_type": "execute_result"
    }
   ],
   "source": [
    "uk_acc.groupby(['District Area','Road_Type']).size().max()\n"
   ]
  },
  {
   "cell_type": "markdown",
   "id": "ca872f38-b7c4-46fd-a976-63d293c1b6d0",
   "metadata": {},
   "source": [
    "# Insight: \n",
    "### Single carriageways usually dominate across all districts."
   ]
  },
  {
   "cell_type": "markdown",
   "id": "d9f5bf75-c838-42e5-912a-4ee9586d0485",
   "metadata": {},
   "source": [
    "# Question 15:\n",
    "### What is the average number of casualties on dual carriageways?"
   ]
  },
  {
   "cell_type": "code",
   "execution_count": 24,
   "id": "8d81601f-8e07-434b-9a4a-21a11ca1f2db",
   "metadata": {},
   "outputs": [
    {
     "data": {
      "text/plain": [
       "np.float64(1.4772791277759898)"
      ]
     },
     "execution_count": 24,
     "metadata": {},
     "output_type": "execute_result"
    }
   ],
   "source": [
    "dual = uk_acc[uk_acc['Road_Type'] == 'Dual carriageway']\n",
    "dual['Number_of_Casualties'].mean()\n"
   ]
  },
  {
   "cell_type": "markdown",
   "id": "33f691da-1208-466f-87cd-df42a1263daf",
   "metadata": {},
   "source": [
    "# Insight: \n",
    "### Even on bigger roads, accidents can still hurt more than one person."
   ]
  },
  {
   "cell_type": "markdown",
   "id": "4317489a-3f66-486d-974c-67f9fa09b877",
   "metadata": {},
   "source": [
    "# Question 16:\n",
    "### What is the highest number of casualties in a single crash?"
   ]
  },
  {
   "cell_type": "code",
   "execution_count": 25,
   "id": "c59fb0bb-e2a8-4037-8aee-128fc55e51ba",
   "metadata": {},
   "outputs": [
    {
     "data": {
      "text/plain": [
       "np.int64(68)"
      ]
     },
     "execution_count": 25,
     "metadata": {},
     "output_type": "execute_result"
    }
   ],
   "source": [
    "uk_acc['Number_of_Casualties'].max()\n"
   ]
  },
  {
   "cell_type": "markdown",
   "id": "61524673-2d40-4c07-b1b9-198db96ee00d",
   "metadata": {},
   "source": [
    "# Insight:\n",
    "### A single large accident can affect many people at once."
   ]
  },
  {
   "cell_type": "markdown",
   "id": "b8668b01-ba33-4c47-aeaf-c46a0c3d25c0",
   "metadata": {},
   "source": [
    "# Question 17:\n",
    "### Which road condition has the most accidents?"
   ]
  },
  {
   "cell_type": "code",
   "execution_count": 26,
   "id": "67f51f0f-70f3-4f92-9a10-adff7aec41f3",
   "metadata": {},
   "outputs": [
    {
     "data": {
      "text/plain": [
       "Road_Surface_Conditions\n",
       "Dry                     448547\n",
       "Wet or damp             186708\n",
       "Frost or ice             18517\n",
       "Snow                      5890\n",
       "Flood over 3cm. deep      1017\n",
       "Name: count, dtype: int64"
      ]
     },
     "execution_count": 26,
     "metadata": {},
     "output_type": "execute_result"
    }
   ],
   "source": [
    "uk_acc['Road_Surface_Conditions'].value_counts()\n"
   ]
  },
  {
   "cell_type": "markdown",
   "id": "aa12ae66-0104-4c87-a3a0-54a1deaedc1c",
   "metadata": {},
   "source": [
    "# Insight:\n",
    "### Dry conditions are the most common, so naturally, more accidents happen there."
   ]
  },
  {
   "cell_type": "markdown",
   "id": "2f764025-7d4a-43d5-9758-4943c509ea69",
   "metadata": {},
   "source": [
    "# Question 18:  \n",
    "### What accident severity happens most often?"
   ]
  },
  {
   "cell_type": "code",
   "execution_count": 27,
   "id": "61342fa2-d675-4b29-b3e4-3e853fa375d7",
   "metadata": {},
   "outputs": [
    {
     "data": {
      "text/plain": [
       "'Slight'"
      ]
     },
     "execution_count": 27,
     "metadata": {},
     "output_type": "execute_result"
    }
   ],
   "source": [
    "uk_acc['Accident_Severity'].mode()[0]\n"
   ]
  },
  {
   "cell_type": "markdown",
   "id": "6295d430-2679-47cf-93ee-babde6e3ba8b",
   "metadata": {},
   "source": [
    "# Insight:\n",
    "### Most reported crashes are minor in nature."
   ]
  },
  {
   "cell_type": "markdown",
   "id": "3e0def61-9b5e-4d6d-8b1c-43f0b000b564",
   "metadata": {},
   "source": [
    "# Question 19:\n",
    "###  What is the average number of casualties per crash?"
   ]
  },
  {
   "cell_type": "code",
   "execution_count": 28,
   "id": "7c1d7e95-39bd-4e8d-a32d-918d4dd901c8",
   "metadata": {},
   "outputs": [
    {
     "data": {
      "text/plain": [
       "np.float64(1.357040257068864)"
      ]
     },
     "execution_count": 28,
     "metadata": {},
     "output_type": "execute_result"
    }
   ],
   "source": [
    "uk_acc['Number_of_Casualties'].mean()\n"
   ]
  },
  {
   "cell_type": "markdown",
   "id": "3f919777-d273-4e4a-8ed0-fe2c057caf53",
   "metadata": {},
   "source": [
    "# Insight: \n",
    "### Most accidents only affect one or two people."
   ]
  },
  {
   "cell_type": "markdown",
   "id": "29e831d8-d858-402f-8da6-c8e972ed9b2f",
   "metadata": {},
   "source": [
    "# Question 20:\n",
    "### What is the fewest number of vehicles in a crash?"
   ]
  },
  {
   "cell_type": "code",
   "execution_count": 29,
   "id": "c06a78df-d0a8-4672-be9c-0868726db2af",
   "metadata": {},
   "outputs": [
    {
     "data": {
      "text/plain": [
       "np.int64(1)"
      ]
     },
     "execution_count": 29,
     "metadata": {},
     "output_type": "execute_result"
    }
   ],
   "source": [
    "uk_acc['Number_of_Vehicles'].min()\n"
   ]
  },
  {
   "cell_type": "markdown",
   "id": "0acc75d6-40e7-4292-989b-cd676fd4cb76",
   "metadata": {},
   "source": [
    "# Insight: \n",
    "### Some accidents involve just one vehicle, such as hitting an object or losing control."
   ]
  },
  {
   "cell_type": "markdown",
   "id": "600d6544-4c9b-4452-be3d-79161fb714d9",
   "metadata": {},
   "source": [
    "# Question 21 :\n",
    "### What’s the percentage of accidents on dry roads?"
   ]
  },
  {
   "cell_type": "code",
   "execution_count": 31,
   "id": "fe1161f8-147c-4eb6-9b63-1d9d4f75f23a",
   "metadata": {},
   "outputs": [
    {
     "data": {
      "text/plain": [
       "np.float64(67.89182038478594)"
      ]
     },
     "execution_count": 31,
     "metadata": {},
     "output_type": "execute_result"
    }
   ],
   "source": [
    "uk_acc['Road_Surface_Conditions'].value_counts(normalize=True)['Dry'] * 100\n"
   ]
  },
  {
   "cell_type": "markdown",
   "id": "818f5658-bb76-4d4a-924a-c2854fed5386",
   "metadata": {},
   "source": [
    "# Insight: \n",
    "### End-of-week traffic and more people traveling contribute to higher accidents on Fridays. Rush hour and weekend trips increase road risks"
   ]
  },
  {
   "cell_type": "markdown",
   "id": "2be491c9-4ad8-4027-92ef-aee082f5d076",
   "metadata": {},
   "source": [
    "# Question 22:\n",
    "### Which road type has the highest average number of casualties?"
   ]
  },
  {
   "cell_type": "code",
   "execution_count": 39,
   "id": "c193bdff-1fa8-4b29-9266-c78fc932e0fd",
   "metadata": {},
   "outputs": [
    {
     "data": {
      "text/plain": [
       "'Dual carriageway'"
      ]
     },
     "execution_count": 39,
     "metadata": {},
     "output_type": "execute_result"
    }
   ],
   "source": [
    "uk_acc.groupby('Road_Type')['Number_of_Casualties'].mean().idxmax()\n"
   ]
  },
  {
   "cell_type": "markdown",
   "id": "3d0490f5-8e4f-4a18-bf2d-6f7c797f1e44",
   "metadata": {},
   "source": [
    "# Insight:\n",
    "### Dual carriageways have the highest average casualties, showing that these roads are more prone to severe accidents compared to other road types."
   ]
  },
  {
   "cell_type": "markdown",
   "id": "9a1ebb0b-b494-4d04-a96c-fa5be0c4dac3",
   "metadata": {},
   "source": [
    "# Question 23 : \n",
    "### What’s the most common vehicle type in accidents?"
   ]
  },
  {
   "cell_type": "code",
   "execution_count": 43,
   "id": "4b14f795-9f38-457a-9caa-947d1745cb3e",
   "metadata": {},
   "outputs": [
    {
     "data": {
      "text/plain": [
       "'Car'"
      ]
     },
     "execution_count": 43,
     "metadata": {},
     "output_type": "execute_result"
    }
   ],
   "source": [
    "uk_acc['Vehicle_Type'].value_counts().idxmax()\n"
   ]
  },
  {
   "cell_type": "markdown",
   "id": "3920aa44-a097-461e-b4c8-3af3450222f6",
   "metadata": {},
   "source": [
    "# Insight: \n",
    "### Cars dominate UK traffic, so they naturally appear most in accident records. Other vehicles like bikes and buses are far less frequent."
   ]
  },
  {
   "cell_type": "markdown",
   "id": "f594dc02-64e9-4680-af82-c5bc3b226c06",
   "metadata": {},
   "source": [
    "# Question 24. \n",
    "###  What is the average number of vehicles involved in accidents across all records?"
   ]
  },
  {
   "cell_type": "code",
   "execution_count": 49,
   "id": "816bc262-d0b8-40a0-abbf-57e55e8b93e2",
   "metadata": {},
   "outputs": [
    {
     "data": {
      "text/plain": [
       "np.float64(2.0)"
      ]
     },
     "execution_count": 49,
     "metadata": {},
     "output_type": "execute_result"
    }
   ],
   "source": [
    "uk_acc['Number_of_Vehicles'].mean().round()\n"
   ]
  },
  {
   "cell_type": "markdown",
   "id": "b598a626-6491-4ac3-adf0-c898e3b07633",
   "metadata": {},
   "source": [
    "# Insight: \n",
    "### On average, about 2 vehicles are involved in each accident, which reflects that most crashes are collisions between two cars rather than large pile-ups."
   ]
  },
  {
   "cell_type": "markdown",
   "id": "3030faa8-815c-49b1-8ece-fbbbc7090dd3",
   "metadata": {},
   "source": [
    "# Question 25. \n",
    "### Which road surface condition has the highest average accident severity?"
   ]
  },
  {
   "cell_type": "code",
   "execution_count": 58,
   "id": "253698e6-7f0a-4f13-be76-efba7234fa0e",
   "metadata": {},
   "outputs": [
    {
     "data": {
      "text/plain": [
       "Road_Surface_Conditions\n",
       "Dry                     1.836610\n",
       "Flood over 3cm. deep    1.805310\n",
       "Frost or ice            1.870767\n",
       "Snow                    1.892190\n",
       "Wet or damp             1.844543\n",
       "Name: Accident_Severity_numeric, dtype: float64"
      ]
     },
     "execution_count": 58,
     "metadata": {},
     "output_type": "execute_result"
    }
   ],
   "source": [
    "uk_acc.groupby('Road_Surface_Conditions')['Accident_Severity_numeric'].mean()\n"
   ]
  },
  {
   "cell_type": "markdown",
   "id": "4c705a17-a1db-4ac1-aa00-6b5fd7537749",
   "metadata": {},
   "source": [
    "# Insight:\n",
    "### Accidents on Snowy roads tend to be the most severe, highlighting how dangerous winter conditions can be for drivers."
   ]
  },
  {
   "cell_type": "code",
   "execution_count": null,
   "id": "db11c526-de8d-4206-8d52-33e39351c973",
   "metadata": {},
   "outputs": [],
   "source": []
  }
 ],
 "metadata": {
  "kernelspec": {
   "display_name": "Python 3 (ipykernel)",
   "language": "python",
   "name": "python3"
  },
  "language_info": {
   "codemirror_mode": {
    "name": "ipython",
    "version": 3
   },
   "file_extension": ".py",
   "mimetype": "text/x-python",
   "name": "python",
   "nbconvert_exporter": "python",
   "pygments_lexer": "ipython3",
   "version": "3.13.3"
  }
 },
 "nbformat": 4,
 "nbformat_minor": 5
}
